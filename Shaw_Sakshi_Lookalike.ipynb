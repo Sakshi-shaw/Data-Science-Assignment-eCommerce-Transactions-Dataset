{
  "nbformat": 4,
  "nbformat_minor": 0,
  "metadata": {
    "colab": {
      "provenance": [],
      "mount_file_id": "1X2hwq5IqEJevpe95R5lAjoPu9FATKW4n",
      "authorship_tag": "ABX9TyOyMlj9YsAGDuDpjl8uvrBE",
      "include_colab_link": true
    },
    "kernelspec": {
      "name": "python3",
      "display_name": "Python 3"
    },
    "language_info": {
      "name": "python"
    }
  },
  "cells": [
    {
      "cell_type": "markdown",
      "metadata": {
        "id": "view-in-github",
        "colab_type": "text"
      },
      "source": [
        "<a href=\"https://colab.research.google.com/github/Sakshi-shaw/Data-Science-Assignment-eCommerce-Transactions-Dataset/blob/main/Shaw_Sakshi_Lookalike.ipynb\" target=\"_parent\"><img src=\"https://colab.research.google.com/assets/colab-badge.svg\" alt=\"Open In Colab\"/></a>"
      ]
    },
    {
      "cell_type": "code",
      "execution_count": null,
      "metadata": {
        "id": "Vge6uaNQg65Q"
      },
      "outputs": [],
      "source": [
        "import pandas as pd\n",
        "from sklearn.metrics.pairwise import cosine_similarity\n",
        "import numpy as np"
      ]
    },
    {
      "cell_type": "code",
      "source": [
        "# Load the file back from Google Drive\n",
        "merged = pd.read_csv(\"/content/drive/MyDrive/merged_dataset.csv\")\n"
      ],
      "metadata": {
        "id": "GvCJxiPYjFBh"
      },
      "execution_count": null,
      "outputs": []
    },
    {
      "cell_type": "code",
      "source": [
        "# Aggregate Customer Profiles\n",
        "customer_data = merged.groupby(\"CustomerID\").agg({\n",
        "    \"TotalValue\": \"sum\",\n",
        "    \"Quantity\": \"sum\",\n",
        "    \"ProductID\": lambda x: len(x.unique())\n",
        "}).reset_index()"
      ],
      "metadata": {
        "id": "Xmp8HiliiEDH"
      },
      "execution_count": null,
      "outputs": []
    },
    {
      "cell_type": "code",
      "source": [
        "# Normalize Features\n",
        "customer_features = customer_data.drop(\"CustomerID\", axis=1)\n",
        "customer_features_normalized = (customer_features - customer_features.mean()) / customer_features.std()\n"
      ],
      "metadata": {
        "id": "3n5OsLNJonHO"
      },
      "execution_count": null,
      "outputs": []
    },
    {
      "cell_type": "code",
      "source": [
        "# Calculate Similarity Matrix\n",
        "similarity_matrix = cosine_similarity(customer_features_normalized)\n"
      ],
      "metadata": {
        "id": "OTUT3wbMoqzB"
      },
      "execution_count": null,
      "outputs": []
    },
    {
      "cell_type": "code",
      "source": [
        "# Generate Lookalikes\n",
        "lookalikes = {}\n",
        "for i in range(20):\n",
        "    customer_id = customer_data.iloc[i][\"CustomerID\"]\n",
        "    scores = similarity_matrix[i]\n",
        "    similar_customers = sorted(list(enumerate(scores)), key=lambda x: x[1], reverse=True)[1:4]\n",
        "    lookalikes[customer_id] = [(customer_data.iloc[idx][\"CustomerID\"], round(score, 2)) for idx, score in similar_customers]"
      ],
      "metadata": {
        "id": "1QgbqUIQowKA"
      },
      "execution_count": null,
      "outputs": []
    },
    {
      "cell_type": "code",
      "source": [
        "# Save Lookalikes to CSV\n",
        "lookalike_df = pd.DataFrame({\n",
        "    \"CustomerID\": list(lookalikes.keys()),\n",
        "    \"Lookalikes\": [str(v) for v in lookalikes.values()]\n",
        "})\n",
        "lookalike_df.to_csv(\"Shaw_Sakshi_Lookalike.csv\", index=False)\n",
        "from google.colab import files\n",
        "files.download(\"Shaw_Sakshi_Lookalike.csv\")"
      ],
      "metadata": {
        "colab": {
          "base_uri": "https://localhost:8080/",
          "height": 17
        },
        "id": "IhJ2coLpo00D",
        "outputId": "63b64c84-5dc7-4457-ab53-5d2fb7b656fb"
      },
      "execution_count": null,
      "outputs": [
        {
          "output_type": "display_data",
          "data": {
            "text/plain": [
              "<IPython.core.display.Javascript object>"
            ],
            "application/javascript": [
              "\n",
              "    async function download(id, filename, size) {\n",
              "      if (!google.colab.kernel.accessAllowed) {\n",
              "        return;\n",
              "      }\n",
              "      const div = document.createElement('div');\n",
              "      const label = document.createElement('label');\n",
              "      label.textContent = `Downloading \"${filename}\": `;\n",
              "      div.appendChild(label);\n",
              "      const progress = document.createElement('progress');\n",
              "      progress.max = size;\n",
              "      div.appendChild(progress);\n",
              "      document.body.appendChild(div);\n",
              "\n",
              "      const buffers = [];\n",
              "      let downloaded = 0;\n",
              "\n",
              "      const channel = await google.colab.kernel.comms.open(id);\n",
              "      // Send a message to notify the kernel that we're ready.\n",
              "      channel.send({})\n",
              "\n",
              "      for await (const message of channel.messages) {\n",
              "        // Send a message to notify the kernel that we're ready.\n",
              "        channel.send({})\n",
              "        if (message.buffers) {\n",
              "          for (const buffer of message.buffers) {\n",
              "            buffers.push(buffer);\n",
              "            downloaded += buffer.byteLength;\n",
              "            progress.value = downloaded;\n",
              "          }\n",
              "        }\n",
              "      }\n",
              "      const blob = new Blob(buffers, {type: 'application/binary'});\n",
              "      const a = document.createElement('a');\n",
              "      a.href = window.URL.createObjectURL(blob);\n",
              "      a.download = filename;\n",
              "      div.appendChild(a);\n",
              "      a.click();\n",
              "      div.remove();\n",
              "    }\n",
              "  "
            ]
          },
          "metadata": {}
        },
        {
          "output_type": "display_data",
          "data": {
            "text/plain": [
              "<IPython.core.display.Javascript object>"
            ],
            "application/javascript": [
              "download(\"download_8ccf6a2f-b3c4-44a0-a198-10b0440807b2\", \"Shaw_Sakshi_Lookalike.csv\", 1191)"
            ]
          },
          "metadata": {}
        }
      ]
    }
  ]
}